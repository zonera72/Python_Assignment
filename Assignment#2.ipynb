{
 "cells": [
  {
   "cell_type": "code",
   "execution_count": 1,
   "metadata": {},
   "outputs": [
    {
     "name": "stdout",
     "output_type": "stream",
     "text": [
      "Enter marks of eng 90\n",
      "Enter marks of urdu 80\n",
      "Enter marks of pst 70\n",
      "Enter marks of sci 60\n",
      "Enter marks of sindhi 50\n",
      "Average of 5 subject is : 70\n",
      "Total obtained marks : 350\n",
      "Percentage is : 70\n",
      "A Grade\n"
     ]
    }
   ],
   "source": [
    "# Marks Sheet\n",
    "eng = int(input(\"Enter marks of eng \"))\n",
    "urdu = int(input(\"Enter marks of urdu \"))\n",
    "pst = int(input(\"Enter marks of pst \"))\n",
    "sci = int(input(\"Enter marks of sci \"))\n",
    "sindhi = int(input(\"Enter marks of sindhi \"))\n",
    "ob_marks = eng+urdu+pst+sci+sindhi\n",
    "avg = (ob_marks)/5\n",
    "\n",
    "print(\"Average of 5 subject is : %d\"%avg)\n",
    "percentage = (ob_marks*100)/500\n",
    "print(\"Total obtained marks : %d\"%ob_marks)\n",
    "print(\"Percentage is : %d\"%percentage)\n",
    "\n",
    "if(percentage>=80):\n",
    "    print (\"A+ Grade\")\n",
    "elif(percentage<80 and percentage>=70):\n",
    "    print (\"A Grade\")\n",
    "elif(percentage<70 and percentage>=60):\n",
    "    print (\"B Grade\")\n",
    "elif(percentage<60 and percentage>=50):\n",
    "    print (\"C Grade\")\n",
    "else:\n",
    "    print (\"Fail\")"
   ]
  },
  {
   "cell_type": "code",
   "execution_count": 8,
   "metadata": {},
   "outputs": [
    {
     "name": "stdout",
     "output_type": "stream",
     "text": [
      "Enter a number to identify it.5\n",
      "5 is odd number\n"
     ]
    }
   ],
   "source": [
    "number = int(input(\"Enter a number to identify it.\"))\n",
    "if number%2==0:\n",
    "    print(\"%d is even number\"%number)\n",
    "else:\n",
    "    print(\"%d is odd number\"%number)"
   ]
  },
  {
   "cell_type": "code",
   "execution_count": 3,
   "metadata": {},
   "outputs": [
    {
     "name": "stdout",
     "output_type": "stream",
     "text": [
      "5\n"
     ]
    }
   ],
   "source": [
    "list = [2,\"abc\",9,10,\"asdf\"]\n",
    "print(len(list))"
   ]
  },
  {
   "cell_type": "code",
   "execution_count": 21,
   "metadata": {},
   "outputs": [
    {
     "name": "stdout",
     "output_type": "stream",
     "text": [
      "sum is  75\n"
     ]
    }
   ],
   "source": [
    "list = [5,10,15,20,25]\n",
    "sum=0\n",
    "for x in list:\n",
    "    sum+=x    \n",
    "print(\"sum is \",sum)"
   ]
  },
  {
   "cell_type": "code",
   "execution_count": 24,
   "metadata": {},
   "outputs": [
    {
     "name": "stdout",
     "output_type": "stream",
     "text": [
      "largest number is  85\n"
     ]
    }
   ],
   "source": [
    "list = [5,25,85,10,15,20]\n",
    "largest=list[0]\n",
    "# loop throgh whole list to find largest\n",
    "for x in list:\n",
    "#     next item is greater thn swap\n",
    "    if x>largest:\n",
    "        temp = largest\n",
    "        largest=x\n",
    "        x = temp\n",
    "print(\"largest number is \",largest)\n",
    "        "
   ]
  },
  {
   "cell_type": "code",
   "execution_count": 25,
   "metadata": {},
   "outputs": [
    {
     "name": "stdout",
     "output_type": "stream",
     "text": [
      "1\n",
      "1\n",
      "2\n",
      "3\n"
     ]
    }
   ],
   "source": [
    "a = [1, 1, 2, 3, 5, 8, 13, 21, 34, 55, 89] \n",
    "for x in a:\n",
    "    if x < 5:\n",
    "        # print elements < 5\n",
    "        print(x)"
   ]
  },
  {
   "cell_type": "code",
   "execution_count": null,
   "metadata": {},
   "outputs": [],
   "source": []
  }
 ],
 "metadata": {
  "kernelspec": {
   "display_name": "Python 3",
   "language": "python",
   "name": "python3"
  },
  "language_info": {
   "codemirror_mode": {
    "name": "ipython",
    "version": 3
   },
   "file_extension": ".py",
   "mimetype": "text/x-python",
   "name": "python",
   "nbconvert_exporter": "python",
   "pygments_lexer": "ipython3",
   "version": "3.7.4"
  }
 },
 "nbformat": 4,
 "nbformat_minor": 2
}
